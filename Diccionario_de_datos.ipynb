{
  "nbformat": 4,
  "nbformat_minor": 0,
  "metadata": {
    "colab": {
      "provenance": [],
      "authorship_tag": "ABX9TyN43bsTEoZpkCf9glbd5biA",
      "include_colab_link": true
    },
    "kernelspec": {
      "name": "python3",
      "display_name": "Python 3"
    },
    "language_info": {
      "name": "python"
    }
  },
  "cells": [
    {
      "cell_type": "markdown",
      "metadata": {
        "id": "view-in-github",
        "colab_type": "text"
      },
      "source": [
        "<a href=\"https://colab.research.google.com/github/matildecanete/proyecto2/blob/main/Diccionario_de_datos.ipynb\" target=\"_parent\"><img src=\"https://colab.research.google.com/assets/colab-badge.svg\" alt=\"Open In Colab\"/></a>"
      ]
    },
    {
      "cell_type": "markdown",
      "source": [
        "Descripción de las variables del conjunto de datos."
      ],
      "metadata": {
        "id": "px-vFPDy5a6z"
      }
    },
    {
      "cell_type": "markdown",
      "source": [
        "- age\n",
        ">Edad del cliente.\n",
        "- gender\n",
        ">Género del cliente (0 para Hombre, 1 para Mujer).\n",
        "- income\n",
        ">Ingresos anuales del cliente.\n",
        "- education\n",
        ">Nivel educativo del cliente.\n",
        "- region\n",
        ">Región donde reside el cliente.\n",
        "- loyalty_status\n",
        ">Estado de fidelización del cliente.\n",
        "- purchase_frequency\n",
        ">Frecuencia de compras realizadas por el cliente.\n",
        "- purchase_amount\n",
        ">Importe gastado por el cliente en cada compra.\n",
        "- product_category\n",
        ">Categoría del producto adquirido.\n",
        "- promotion_usage\n",
        ">Indica si el cliente utilizó ofertas promocionales (0 para No, 1 para Sí).\n",
        "- satisfaction_score\n",
        ">Puntuación de satisfacción del cliente.\n",
        "- total_score\n",
        ">columna objetivo creada en base a los datos de satisfaction_score.\n"
      ],
      "metadata": {
        "id": "W6XLi_3V5b_J"
      }
    }
  ]
}