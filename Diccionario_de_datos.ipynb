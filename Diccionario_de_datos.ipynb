{
  "nbformat": 4,
  "nbformat_minor": 0,
  "metadata": {
    "colab": {
      "provenance": [],
      "authorship_tag": "ABX9TyNjfVnNIbJgboO8wZuiIy7X",
      "include_colab_link": true
    },
    "kernelspec": {
      "name": "python3",
      "display_name": "Python 3"
    },
    "language_info": {
      "name": "python"
    }
  },
  "cells": [
    {
      "cell_type": "markdown",
      "metadata": {
        "id": "view-in-github",
        "colab_type": "text"
      },
      "source": [
        "<a href=\"https://colab.research.google.com/github/matildecanete/proyecto2/blob/main/Diccionario_de_datos.ipynb\" target=\"_parent\"><img src=\"https://colab.research.google.com/assets/colab-badge.svg\" alt=\"Open In Colab\"/></a>"
      ]
    },
    {
      "cell_type": "markdown",
      "source": [
        "Descripción de las variables del conjunto de datos."
      ],
      "metadata": {
        "id": "px-vFPDy5a6z"
      }
    },
    {
      "cell_type": "markdown",
      "source": [
        "- age\n",
        ">Edad del cliente.\n"
      ],
      "metadata": {
        "id": "W6XLi_3V5b_J"
      }
    },
    {
      "cell_type": "markdown",
      "source": [
        "- gender\n",
        ">Género del cliente (0 para Hombre, 1 para Mujer).\n"
      ],
      "metadata": {
        "id": "jUxmZJAl6qAM"
      }
    },
    {
      "cell_type": "markdown",
      "source": [
        "- income\n",
        ">Ingresos anuales del cliente.\n"
      ],
      "metadata": {
        "id": "nnWI5Oet6skb"
      }
    },
    {
      "cell_type": "markdown",
      "source": [
        "- education\n",
        ">Nivel educativo del cliente.\n"
      ],
      "metadata": {
        "id": "0owAlsQp6vOv"
      }
    },
    {
      "cell_type": "markdown",
      "source": [
        "- region\n",
        ">Región donde reside el cliente.\n"
      ],
      "metadata": {
        "id": "wmHYpwYp6yTL"
      }
    },
    {
      "cell_type": "markdown",
      "source": [
        "- loyalty_status\n",
        ">Estado de fidelización del cliente."
      ],
      "metadata": {
        "id": "515YCecD6085"
      }
    },
    {
      "cell_type": "markdown",
      "source": [
        "\n",
        "- purchase_frequency\n",
        ">Frecuencia de compras realizadas por el cliente.\n"
      ],
      "metadata": {
        "id": "bTg-Fu3g63Oj"
      }
    },
    {
      "cell_type": "markdown",
      "source": [
        "- purchase_amount\n",
        ">Importe gastado por el cliente en cada compra.\n"
      ],
      "metadata": {
        "id": "kOfxeERI67-D"
      }
    },
    {
      "cell_type": "markdown",
      "source": [
        "- product_category\n",
        ">Categoría del producto adquirido.\n"
      ],
      "metadata": {
        "id": "jP-HXTKK6-04"
      }
    },
    {
      "cell_type": "markdown",
      "source": [
        "- promotion_usage\n",
        ">Indica si el cliente utilizó ofertas promocionales (0 para No, 1 para Sí).\n"
      ],
      "metadata": {
        "id": "6vHVFydx7Acm"
      }
    },
    {
      "cell_type": "markdown",
      "source": [
        "- satisfaction_score\n",
        ">Puntuación de satisfacción del cliente.\n"
      ],
      "metadata": {
        "id": "Gf_3_RMB7DUW"
      }
    },
    {
      "cell_type": "markdown",
      "source": [
        "- total_score\n",
        ">columna objetivo creada en base a los datos de satisfaction_score."
      ],
      "metadata": {
        "id": "syFlPWlw7FGA"
      }
    }
  ]
}