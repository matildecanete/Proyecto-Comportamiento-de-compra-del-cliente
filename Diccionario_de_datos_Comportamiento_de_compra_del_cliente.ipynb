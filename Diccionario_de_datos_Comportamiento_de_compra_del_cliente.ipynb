{
  "nbformat": 4,
  "nbformat_minor": 0,
  "metadata": {
    "colab": {
      "provenance": [],
      "authorship_tag": "ABX9TyOGdlEvqX2hlSUkraoQr2ox",
      "include_colab_link": true
    },
    "kernelspec": {
      "name": "python3",
      "display_name": "Python 3"
    },
    "language_info": {
      "name": "python"
    }
  },
  "cells": [
    {
      "cell_type": "markdown",
      "metadata": {
        "id": "view-in-github",
        "colab_type": "text"
      },
      "source": [
        "<a href=\"https://colab.research.google.com/github/matildecanete/Proyecto-Comportamiento-de-compra-del-cliente/blob/main/Diccionario_de_datos_Comportamiento_de_compra_del_cliente.ipynb\" target=\"_parent\"><img src=\"https://colab.research.google.com/assets/colab-badge.svg\" alt=\"Open In Colab\"/></a>"
      ]
    },
    {
      "cell_type": "markdown",
      "source": [
        "Este conjunto de datos contiene datos simulados que representan el comportamiento de compra de los clientes."
      ],
      "metadata": {
        "id": "vQXSopGb0jOo"
      }
    },
    {
      "cell_type": "markdown",
      "source": [
        "- Descripción de las variables del conjunto de datos:\n",
        "\n",
        "    - age: Edad del cliente.\n",
        "    - gender: Sexo del cliente (0 para Hombre, 1 para Mujer).\n",
        "    - income: Ingresos anuales del cliente.\n",
        "    - education: Nivel educativo del cliente.\n",
        "    - region: Región de residencia del cliente.\n",
        "    - loyalty_status: Fidelidad del cliente.\n",
        "    - purchase_frequency: Frecuencia de las compras realizadas por el cliente.\n",
        "    - purchase_amount: Importe gastado por el cliente en cada compra.\n",
        "    - product_category: Categoría del producto adquirido.\n",
        "    - promotion_usage: Indica si el cliente utilizó ofertas promocionales (0 para No, 1 para Sí).\n",
        "    - satisfaction_score: Puntuación de satisfacción del cliente.\n",
        "    - total_score: Variable objetivo creada en base a los datos de satisfaction_score (1 para Satisfecho, 0 para Insatisfecho)."
      ],
      "metadata": {
        "id": "px-vFPDy5a6z"
      }
    },
    {
      "cell_type": "markdown",
      "source": [
        "Fuente:\n",
        "\n",
        "https://www.kaggle.com/datasets/sanyamgoyal401/customer-purchases-behaviour-dataset"
      ],
      "metadata": {
        "id": "rpglNxLT1WwO"
      }
    }
  ]
}